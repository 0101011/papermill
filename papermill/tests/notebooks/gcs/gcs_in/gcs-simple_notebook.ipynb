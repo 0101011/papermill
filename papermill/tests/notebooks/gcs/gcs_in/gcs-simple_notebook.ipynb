{
  "nbformat": 4,
  "nbformat_minor": 0,
  "metadata": {
    "colab": {
      "name": "test.ipynb",
      "version": "0.3.2",
      "provenance": []
    },
    "kernelspec": {
      "display_name": "Python 3",
      "language": "python",
      "name": "python3"
    }
  },
  "cells": [
    {
      "metadata": {
        "id": "qSXf2GQUPK0w",
        "colab_type": "text"
      },
      "cell_type": "markdown",
      "source": [
        "# Running Code"
      ]
    },
    {
      "metadata": {
        "id": "FqvLtG2rPK0y",
        "colab_type": "text"
      },
      "cell_type": "markdown",
      "source": [
        "First and foremost, the Jupyter Notebook is an interactive environment for writing and running code. The notebook is capable of running code in a wide range of languages. However, each notebook is associated with a single kernel.  This notebook is associated with the IPython kernel, therefore runs Python code."
      ]
    },
    {
      "metadata": {
        "id": "o_t3ZsX4PK0z",
        "colab_type": "text"
      },
      "cell_type": "markdown",
      "source": [
        "## Code cells allow you to enter and run code"
      ]
    },
    {
      "metadata": {
        "id": "vZmdEX3DPK00",
        "colab_type": "text"
      },
      "cell_type": "markdown",
      "source": [
        "Run a code cell using `Shift-Enter` or pressing the <button class='btn btn-default btn-xs'><i class=\"icon-step-forward fa fa-step-forward\"></i></button> button in the toolbar above:"
      ]
    },
    {
      "metadata": {
        "id": "BpRuIUGHPK01",
        "colab_type": "code",
        "colab": {}
      },
      "cell_type": "code",
      "source": [
        "a = 10"
      ],
      "execution_count": 0,
      "outputs": []
    },
    {
      "metadata": {
        "id": "fnpf46qBPK05",
        "colab_type": "code",
        "colab": {
          "base_uri": "https://localhost:8080/",
          "height": 34
        },
        "outputId": "ac454578-c886-4b04-9de4-8001a8b26577"
      },
      "cell_type": "code",
      "source": [
        "print(a)"
      ],
      "execution_count": 2,
      "outputs": [
        {
          "output_type": "stream",
          "text": [
            "10\n"
          ],
          "name": "stdout"
        }
      ]
    },
    {
      "metadata": {
        "id": "fimFb-WJPK1A",
        "colab_type": "text"
      },
      "cell_type": "markdown",
      "source": [
        "There are two other keyboard shortcuts for running code:\n",
        "\n",
        "* `Alt-Enter` runs the current cell and inserts a new one below.\n",
        "* `Ctrl-Enter` run the current cell and enters command mode."
      ]
    },
    {
      "metadata": {
        "id": "_nWwBZOmPK1B",
        "colab_type": "text"
      },
      "cell_type": "markdown",
      "source": [
        "## Managing the Kernel"
      ]
    },
    {
      "metadata": {
        "id": "pnSA9-_RPK1C",
        "colab_type": "text"
      },
      "cell_type": "markdown",
      "source": [
        "Code is run in a separate process called the Kernel.  The Kernel can be interrupted or restarted.  Try running the following cell and then hit the <button class='btn btn-default btn-xs'><i class='icon-stop fa fa-stop'></i></button> button in the toolbar above."
      ]
    },
    {
      "metadata": {
        "id": "pRojUUXpPK1C",
        "colab_type": "code",
        "colab": {}
      },
      "cell_type": "code",
      "source": [
        "import time\n",
        "time.sleep(10)"
      ],
      "execution_count": 0,
      "outputs": []
    },
    {
      "metadata": {
        "id": "CpBc_I_oPK1G",
        "colab_type": "text"
      },
      "cell_type": "markdown",
      "source": [
        "If the Kernel dies you will be prompted to restart it. Here we call the low-level system libc.time routine with the wrong argument via\n",
        "ctypes to segfault the Python interpreter:"
      ]
    },
    {
      "metadata": {
        "id": "Hb219SSWPK1H",
        "colab_type": "code",
        "colab": {}
      },
      "cell_type": "code",
      "source": [
        "import sys\n",
        "from ctypes import CDLL\n",
        "# This will crash a Linux or Mac system\n",
        "# equivalent calls can be made on Windows\n",
        "\n",
        "# Uncomment these lines if you would like to see the segfault\n",
        "\n",
        "# dll = 'dylib' if sys.platform == 'darwin' else 'so.6'\n",
        "# libc = CDLL(\"libc.%s\" % dll) \n",
        "# libc.time(-1)  # BOOM!!"
      ],
      "execution_count": 0,
      "outputs": []
    },
    {
      "metadata": {
        "id": "ctxjxwoLPK1J",
        "colab_type": "text"
      },
      "cell_type": "markdown",
      "source": [
        "## Cell menu"
      ]
    },
    {
      "metadata": {
        "id": "0z5jISIvPK1L",
        "colab_type": "text"
      },
      "cell_type": "markdown",
      "source": [
        "The \"Cell\" menu has a number of menu items for running code in different ways. These includes:\n",
        "\n",
        "* Run and Select Below\n",
        "* Run and Insert Below\n",
        "* Run All\n",
        "* Run All Above\n",
        "* Run All Below"
      ]
    },
    {
      "metadata": {
        "id": "dT1ty5vnPK1M",
        "colab_type": "text"
      },
      "cell_type": "markdown",
      "source": [
        "## Restarting the kernels"
      ]
    },
    {
      "metadata": {
        "id": "dGvq4AGoPK1N",
        "colab_type": "text"
      },
      "cell_type": "markdown",
      "source": [
        "The kernel maintains the state of a notebook's computations. You can reset this state by restarting the kernel. This is done by clicking on the <button class='btn btn-default btn-xs'><i class='fa fa-repeat icon-repeat'></i></button> in the toolbar above."
      ]
    },
    {
      "metadata": {
        "id": "Ffr2YBCEPK1O",
        "colab_type": "text"
      },
      "cell_type": "markdown",
      "source": [
        "## sys.stdout and sys.stderr"
      ]
    },
    {
      "metadata": {
        "id": "3asl6eWjPK1P",
        "colab_type": "text"
      },
      "cell_type": "markdown",
      "source": [
        "The stdout and stderr streams are displayed as text in the output area."
      ]
    },
    {
      "metadata": {
        "id": "j9wH8R9EPK1Q",
        "colab_type": "code",
        "colab": {
          "base_uri": "https://localhost:8080/",
          "height": 34
        },
        "outputId": "cc271283-bae4-4385-d418-04741e75d7f3"
      },
      "cell_type": "code",
      "source": [
        "print(\"hi, stdout\")"
      ],
      "execution_count": 5,
      "outputs": [
        {
          "output_type": "stream",
          "text": [
            "hi, stdout\n"
          ],
          "name": "stdout"
        }
      ]
    },
    {
      "metadata": {
        "id": "LclWlgwbPK1U",
        "colab_type": "code",
        "colab": {
          "base_uri": "https://localhost:8080/",
          "height": 34
        },
        "outputId": "ab0e8ef1-33a8-49ec-ac96-9ea834dc60b7"
      },
      "cell_type": "code",
      "source": [
        "from __future__ import print_function\n",
        "print('hi, stderr', file=sys.stderr)"
      ],
      "execution_count": 6,
      "outputs": [
        {
          "output_type": "stream",
          "text": [
            "hi, stderr\n"
          ],
          "name": "stderr"
        }
      ]
    },
    {
      "metadata": {
        "id": "5QBmFoIGPK1Y",
        "colab_type": "text"
      },
      "cell_type": "markdown",
      "source": [
        "## Output is asynchronous"
      ]
    },
    {
      "metadata": {
        "id": "Qh1_P0UGPK1Y",
        "colab_type": "text"
      },
      "cell_type": "markdown",
      "source": [
        "All output is displayed asynchronously as it is generated in the Kernel. If you execute the next cell, you will see the output one piece at a time, not all at the end."
      ]
    },
    {
      "metadata": {
        "id": "FKupEea9PK1a",
        "colab_type": "code",
        "colab": {
          "base_uri": "https://localhost:8080/",
          "height": 153
        },
        "outputId": "c0bf86ed-bf12-4dc8-f016-6dc1c24a4e5b"
      },
      "cell_type": "code",
      "source": [
        "import time, sys\n",
        "for i in range(8):\n",
        "    print(i)\n",
        "    time.sleep(0.5)"
      ],
      "execution_count": 7,
      "outputs": [
        {
          "output_type": "stream",
          "text": [
            "0\n",
            "1\n",
            "2\n",
            "3\n",
            "4\n",
            "5\n",
            "6\n",
            "7\n"
          ],
          "name": "stdout"
        }
      ]
    }
  ]
}